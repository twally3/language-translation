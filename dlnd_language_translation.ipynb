{
 "cells": [
  {
   "cell_type": "markdown",
   "metadata": {
    "collapsed": true,
    "deletable": true,
    "editable": true
   },
   "source": [
    "# Language Translation\n",
    "In this project, you’re going to take a peek into the realm of neural network machine translation.  You’ll be training a sequence to sequence model on a dataset of English and French sentences that can translate new sentences from English to French.\n",
    "## Get the Data\n",
    "Since translating the whole language of English to French will take lots of time to train, we have provided you with a small portion of the English corpus."
   ]
  },
  {
   "cell_type": "code",
   "execution_count": 1,
   "metadata": {
    "collapsed": false,
    "deletable": true,
    "editable": true
   },
   "outputs": [],
   "source": [
    "\"\"\"\n",
    "DON'T MODIFY ANYTHING IN THIS CELL\n",
    "\"\"\"\n",
    "import helper\n",
    "import problem_unittests as tests\n",
    "\n",
    "source_path = 'data/small_vocab_en'\n",
    "target_path = 'data/small_vocab_fr'\n",
    "source_text = helper.load_data(source_path)\n",
    "target_text = helper.load_data(target_path)"
   ]
  },
  {
   "cell_type": "markdown",
   "metadata": {
    "deletable": true,
    "editable": true
   },
   "source": [
    "## Explore the Data\n",
    "Play around with view_sentence_range to view different parts of the data."
   ]
  },
  {
   "cell_type": "code",
   "execution_count": 2,
   "metadata": {
    "collapsed": false,
    "deletable": true,
    "editable": true
   },
   "outputs": [
    {
     "name": "stdout",
     "output_type": "stream",
     "text": [
      "Dataset Stats\n",
      "Roughly the number of unique words: 227\n",
      "Number of sentences: 137861\n",
      "Average number of words in a sentence: 13.225277634719028\n",
      "\n",
      "English sentences 0 to 10:\n",
      "new jersey is sometimes quiet during autumn , and it is snowy in april .\n",
      "the united states is usually chilly during july , and it is usually freezing in november .\n",
      "california is usually quiet during march , and it is usually hot in june .\n",
      "the united states is sometimes mild during june , and it is cold in september .\n",
      "your least liked fruit is the grape , but my least liked is the apple .\n",
      "his favorite fruit is the orange , but my favorite is the grape .\n",
      "paris is relaxing during december , but it is usually chilly in july .\n",
      "new jersey is busy during spring , and it is never hot in march .\n",
      "our least liked fruit is the lemon , but my least liked is the grape .\n",
      "the united states is sometimes busy during january , and it is sometimes warm in november .\n",
      "\n",
      "French sentences 0 to 10:\n",
      "new jersey est parfois calme pendant l' automne , et il est neigeux en avril .\n",
      "les états-unis est généralement froid en juillet , et il gèle habituellement en novembre .\n",
      "california est généralement calme en mars , et il est généralement chaud en juin .\n",
      "les états-unis est parfois légère en juin , et il fait froid en septembre .\n",
      "votre moins aimé fruit est le raisin , mais mon moins aimé est la pomme .\n",
      "son fruit préféré est l'orange , mais mon préféré est le raisin .\n",
      "paris est relaxant en décembre , mais il est généralement froid en juillet .\n",
      "new jersey est occupé au printemps , et il est jamais chaude en mars .\n",
      "notre fruit est moins aimé le citron , mais mon moins aimé est le raisin .\n",
      "les états-unis est parfois occupé en janvier , et il est parfois chaud en novembre .\n"
     ]
    }
   ],
   "source": [
    "view_sentence_range = (0, 10)\n",
    "\n",
    "\"\"\"\n",
    "DON'T MODIFY ANYTHING IN THIS CELL\n",
    "\"\"\"\n",
    "import numpy as np\n",
    "\n",
    "print('Dataset Stats')\n",
    "print('Roughly the number of unique words: {}'.format(len({word: None for word in source_text.split()})))\n",
    "\n",
    "sentences = source_text.split('\\n')\n",
    "word_counts = [len(sentence.split()) for sentence in sentences]\n",
    "print('Number of sentences: {}'.format(len(sentences)))\n",
    "print('Average number of words in a sentence: {}'.format(np.average(word_counts)))\n",
    "\n",
    "print()\n",
    "print('English sentences {} to {}:'.format(*view_sentence_range))\n",
    "print('\\n'.join(source_text.split('\\n')[view_sentence_range[0]:view_sentence_range[1]]))\n",
    "print()\n",
    "print('French sentences {} to {}:'.format(*view_sentence_range))\n",
    "print('\\n'.join(target_text.split('\\n')[view_sentence_range[0]:view_sentence_range[1]]))"
   ]
  },
  {
   "cell_type": "markdown",
   "metadata": {
    "deletable": true,
    "editable": true
   },
   "source": [
    "## Implement Preprocessing Function\n",
    "### Text to Word Ids\n",
    "As you did with other RNNs, you must turn the text into a number so the computer can understand it. In the function `text_to_ids()`, you'll turn `source_text` and `target_text` from words to ids.  However, you need to add the `<EOS>` word id at the end of each sentence from `target_text`.  This will help the neural network predict when the sentence should end.\n",
    "\n",
    "You can get the `<EOS>` word id by doing:\n",
    "```python\n",
    "target_vocab_to_int['<EOS>']\n",
    "```\n",
    "You can get other word ids using `source_vocab_to_int` and `target_vocab_to_int`."
   ]
  },
  {
   "cell_type": "code",
   "execution_count": 3,
   "metadata": {
    "collapsed": false,
    "deletable": true,
    "editable": true
   },
   "outputs": [
    {
     "name": "stdout",
     "output_type": "stream",
     "text": [
      "Tests Passed\n"
     ]
    }
   ],
   "source": [
    "def text_to_ids(source_text, target_text, source_vocab_to_int, target_vocab_to_int):\n",
    "    \"\"\"\n",
    "    Convert source and target text to proper word ids\n",
    "    :param source_text: String that contains all the source text.\n",
    "    :param target_text: String that contains all the target text.\n",
    "    :param source_vocab_to_int: Dictionary to go from the source words to an id\n",
    "    :param target_vocab_to_int: Dictionary to go from the target words to an id\n",
    "    :return: A tuple of lists (source_id_text, target_id_text)\n",
    "    \"\"\"\n",
    "    # TODO: Implement Function\n",
    "    x = [[source_vocab_to_int.get(word, 0) for word in sentence.split()] for sentence in source_text.split('\\n')]\n",
    "    y = [[target_vocab_to_int.get(word, 0) for word in sentence.split()] for sentence in target_text.split('\\n')]\n",
    "    \n",
    "    source_id_text = []\n",
    "    target_id_text = []\n",
    "    \n",
    "    for i in range(len(x)):\n",
    "        n1 = len(x[i])\n",
    "        n2 = len(y[i])\n",
    "        n = n1 if n1 < n2 else n2\n",
    "        if abs(n1 - n2) <= 0.3 * n:\n",
    "            if n1 <= 17 and n2 <= 17:\n",
    "                source_id_text.append(x[i])\n",
    "                target_id_text.append(y[i] + [target_vocab_to_int['<EOS>']])\n",
    "\n",
    "    return (source_id_text, target_id_text)\n",
    "\n",
    "\"\"\"\n",
    "DON'T MODIFY ANYTHING IN THIS CELL THAT IS BELOW THIS LINE\n",
    "\"\"\"\n",
    "tests.test_text_to_ids(text_to_ids)"
   ]
  },
  {
   "cell_type": "markdown",
   "metadata": {
    "deletable": true,
    "editable": true
   },
   "source": [
    "### Preprocess all the data and save it\n",
    "Running the code cell below will preprocess all the data and save it to file."
   ]
  },
  {
   "cell_type": "code",
   "execution_count": 4,
   "metadata": {
    "collapsed": false,
    "deletable": true,
    "editable": true
   },
   "outputs": [],
   "source": [
    "\"\"\"\n",
    "DON'T MODIFY ANYTHING IN THIS CELL\n",
    "\"\"\"\n",
    "helper.preprocess_and_save_data(source_path, target_path, text_to_ids)"
   ]
  },
  {
   "cell_type": "markdown",
   "metadata": {
    "deletable": true,
    "editable": true
   },
   "source": [
    "# Check Point\n",
    "This is your first checkpoint. If you ever decide to come back to this notebook or have to restart the notebook, you can start from here. The preprocessed data has been saved to disk."
   ]
  },
  {
   "cell_type": "code",
   "execution_count": 5,
   "metadata": {
    "collapsed": false,
    "deletable": true,
    "editable": true
   },
   "outputs": [],
   "source": [
    "\"\"\"\n",
    "DON'T MODIFY ANYTHING IN THIS CELL\n",
    "\"\"\"\n",
    "import numpy as np\n",
    "import helper\n",
    "\n",
    "(source_int_text, target_int_text), (source_vocab_to_int, target_vocab_to_int), _ = helper.load_preprocess()"
   ]
  },
  {
   "cell_type": "markdown",
   "metadata": {
    "deletable": true,
    "editable": true
   },
   "source": [
    "### Check the Version of TensorFlow and Access to GPU\n",
    "This will check to make sure you have the correct version of TensorFlow and access to a GPU"
   ]
  },
  {
   "cell_type": "code",
   "execution_count": 6,
   "metadata": {
    "collapsed": false,
    "deletable": true,
    "editable": true
   },
   "outputs": [
    {
     "name": "stdout",
     "output_type": "stream",
     "text": [
      "TensorFlow Version: 1.0.0\n",
      "Default GPU Device: /gpu:0\n"
     ]
    }
   ],
   "source": [
    "\"\"\"\n",
    "DON'T MODIFY ANYTHING IN THIS CELL\n",
    "\"\"\"\n",
    "from distutils.version import LooseVersion\n",
    "import warnings\n",
    "import tensorflow as tf\n",
    "\n",
    "# Check TensorFlow Version\n",
    "assert LooseVersion(tf.__version__) >= LooseVersion('1.0'), 'Please use TensorFlow version 1.0 or newer'\n",
    "print('TensorFlow Version: {}'.format(tf.__version__))\n",
    "\n",
    "# Check for a GPU\n",
    "if not tf.test.gpu_device_name():\n",
    "    warnings.warn('No GPU found. Please use a GPU to train your neural network.')\n",
    "else:\n",
    "    print('Default GPU Device: {}'.format(tf.test.gpu_device_name()))"
   ]
  },
  {
   "cell_type": "markdown",
   "metadata": {
    "deletable": true,
    "editable": true
   },
   "source": [
    "## Build the Neural Network\n",
    "You'll build the components necessary to build a Sequence-to-Sequence model by implementing the following functions below:\n",
    "- `model_inputs`\n",
    "- `process_decoding_input`\n",
    "- `encoding_layer`\n",
    "- `decoding_layer_train`\n",
    "- `decoding_layer_infer`\n",
    "- `decoding_layer`\n",
    "- `seq2seq_model`\n",
    "\n",
    "### Input\n",
    "Implement the `model_inputs()` function to create TF Placeholders for the Neural Network. It should create the following placeholders:\n",
    "\n",
    "- Input text placeholder named \"input\" using the TF Placeholder name parameter with rank 2.\n",
    "- Targets placeholder with rank 2.\n",
    "- Learning rate placeholder with rank 0.\n",
    "- Keep probability placeholder named \"keep_prob\" using the TF Placeholder name parameter with rank 0.\n",
    "\n",
    "Return the placeholders in the following the tuple (Input, Targets, Learing Rate, Keep Probability)"
   ]
  },
  {
   "cell_type": "code",
   "execution_count": 7,
   "metadata": {
    "collapsed": false,
    "deletable": true,
    "editable": true
   },
   "outputs": [
    {
     "name": "stdout",
     "output_type": "stream",
     "text": [
      "Tests Passed\n"
     ]
    }
   ],
   "source": [
    "def model_inputs():\n",
    "    \"\"\"\n",
    "    Create TF Placeholders for input, targets, and learning rate.\n",
    "    :return: Tuple (input, targets, learning rate, keep probability)\n",
    "    \"\"\"\n",
    "    # TODO: Implement Function\n",
    "    return tf.placeholder(tf.int32, (None, None), name=\"input\"), tf.placeholder(tf.int32, (None, None)), tf.placeholder(tf.float32), tf.placeholder(tf.float32, name=\"keep_prob\")\n",
    "\n",
    "\"\"\"\n",
    "DON'T MODIFY ANYTHING IN THIS CELL THAT IS BELOW THIS LINE\n",
    "\"\"\"\n",
    "tests.test_model_inputs(model_inputs)"
   ]
  },
  {
   "cell_type": "markdown",
   "metadata": {
    "deletable": true,
    "editable": true
   },
   "source": [
    "### Process Decoding Input\n",
    "Implement `process_decoding_input` using TensorFlow to remove the last word id from each batch in `target_data` and concat the GO ID to the begining of each batch."
   ]
  },
  {
   "cell_type": "code",
   "execution_count": 8,
   "metadata": {
    "collapsed": false,
    "deletable": true,
    "editable": true
   },
   "outputs": [
    {
     "name": "stdout",
     "output_type": "stream",
     "text": [
      "Tests Passed\n"
     ]
    }
   ],
   "source": [
    "def process_decoding_input(target_data, target_vocab_to_int, batch_size):\n",
    "    \"\"\"\n",
    "    Preprocess target data for dencoding\n",
    "    :param target_data: Target Placehoder\n",
    "    :param target_vocab_to_int: Dictionary to go from the target words to an id\n",
    "    :param batch_size: Batch Size\n",
    "    :return: Preprocessed target data\n",
    "    \"\"\"\n",
    "    # TODO: Implement Function\n",
    "    ending = tf.strided_slice(target_data, [0, 0], [batch_size, -1], [1, 1])\n",
    "    dec_input = tf.concat([tf.fill([batch_size, 1], target_vocab_to_int['<GO>']), ending], 1)\n",
    "    return dec_input\n",
    "\n",
    "\"\"\"\n",
    "DON'T MODIFY ANYTHING IN THIS CELL THAT IS BELOW THIS LINE\n",
    "\"\"\"\n",
    "tests.test_process_decoding_input(process_decoding_input)"
   ]
  },
  {
   "cell_type": "markdown",
   "metadata": {
    "deletable": true,
    "editable": true
   },
   "source": [
    "### Encoding\n",
    "Implement `encoding_layer()` to create a Encoder RNN layer using [`tf.nn.dynamic_rnn()`](https://www.tensorflow.org/api_docs/python/tf/nn/dynamic_rnn)."
   ]
  },
  {
   "cell_type": "code",
   "execution_count": 9,
   "metadata": {
    "collapsed": false,
    "deletable": true,
    "editable": true
   },
   "outputs": [
    {
     "name": "stdout",
     "output_type": "stream",
     "text": [
      "Tests Passed\n"
     ]
    }
   ],
   "source": [
    "def encoding_layer(rnn_inputs, rnn_size, num_layers, keep_prob):\n",
    "    \"\"\"\n",
    "    Create encoding layer\n",
    "    :param rnn_inputs: Inputs for the RNN\n",
    "    :param rnn_size: RNN Size\n",
    "    :param num_layers: Number of layers\n",
    "    :param keep_prob: Dropout keep probability\n",
    "    :return: RNN state\n",
    "    \"\"\"\n",
    "    # TODO: Implement Function\n",
    "    LSTM = tf.contrib.rnn.BasicLSTMCell(rnn_size)\n",
    "    cell = tf.contrib.rnn.MultiRNNCell([LSTM]*num_layers)\n",
    "    cell = tf.contrib.rnn.DropoutWrapper(cell, output_keep_prob=keep_prob)\n",
    "    RNN_output, RNN_state = tf.nn.dynamic_rnn(cell, rnn_inputs, dtype=tf.float32)\n",
    "    return RNN_state\n",
    "\n",
    "\"\"\"\n",
    "DON'T MODIFY ANYTHING IN THIS CELL THAT IS BELOW THIS LINE\n",
    "\"\"\"\n",
    "tests.test_encoding_layer(encoding_layer)"
   ]
  },
  {
   "cell_type": "markdown",
   "metadata": {
    "deletable": true,
    "editable": true
   },
   "source": [
    "### Decoding - Training\n",
    "Create training logits using [`tf.contrib.seq2seq.simple_decoder_fn_train()`](https://www.tensorflow.org/api_docs/python/tf/contrib/seq2seq/simple_decoder_fn_train) and [`tf.contrib.seq2seq.dynamic_rnn_decoder()`](https://www.tensorflow.org/api_docs/python/tf/contrib/seq2seq/dynamic_rnn_decoder).  Apply the `output_fn` to the [`tf.contrib.seq2seq.dynamic_rnn_decoder()`](https://www.tensorflow.org/api_docs/python/tf/contrib/seq2seq/dynamic_rnn_decoder) outputs."
   ]
  },
  {
   "cell_type": "code",
   "execution_count": 10,
   "metadata": {
    "collapsed": false,
    "deletable": true,
    "editable": true
   },
   "outputs": [
    {
     "name": "stdout",
     "output_type": "stream",
     "text": [
      "Tests Passed\n"
     ]
    }
   ],
   "source": [
    "def decoding_layer_train(encoder_state, dec_cell, dec_embed_input, sequence_length, decoding_scope,\n",
    "                         output_fn, keep_prob):\n",
    "    \"\"\"\n",
    "    Create a decoding layer for training\n",
    "    :param encoder_state: Encoder State\n",
    "    :param dec_cell: Decoder RNN Cell\n",
    "    :param dec_embed_input: Decoder embedded input\n",
    "    :param sequence_length: Sequence Length\n",
    "    :param decoding_scope: TenorFlow Variable Scope for decoding\n",
    "    :param output_fn: Function to apply the output layer\n",
    "    :param keep_prob: Dropout keep probability\n",
    "    :return: Train Logits\n",
    "    \"\"\"\n",
    "    # TODO: Implement Function\n",
    "    train_decoder_fn = tf.contrib.seq2seq.simple_decoder_fn_train(encoder_state)\n",
    "    train_pred, _, _ = tf.contrib.seq2seq.dynamic_rnn_decoder(\n",
    "        dec_cell, train_decoder_fn, dec_embed_input, sequence_length, scope=decoding_scope)\n",
    "    \n",
    "    train_logits = output_fn(train_pred)\n",
    "    \n",
    "    return tf.nn.dropout(train_logits, keep_prob)\n",
    "\n",
    "\n",
    "\"\"\"\n",
    "DON'T MODIFY ANYTHING IN THIS CELL THAT IS BELOW THIS LINE\n",
    "\"\"\"\n",
    "tests.test_decoding_layer_train(decoding_layer_train)"
   ]
  },
  {
   "cell_type": "markdown",
   "metadata": {
    "deletable": true,
    "editable": true
   },
   "source": [
    "### Decoding - Inference\n",
    "Create inference logits using [`tf.contrib.seq2seq.simple_decoder_fn_inference()`](https://www.tensorflow.org/api_docs/python/tf/contrib/seq2seq/simple_decoder_fn_inference) and [`tf.contrib.seq2seq.dynamic_rnn_decoder()`](https://www.tensorflow.org/api_docs/python/tf/contrib/seq2seq/dynamic_rnn_decoder). "
   ]
  },
  {
   "cell_type": "code",
   "execution_count": 11,
   "metadata": {
    "collapsed": false,
    "deletable": true,
    "editable": true
   },
   "outputs": [
    {
     "name": "stdout",
     "output_type": "stream",
     "text": [
      "Tests Passed\n"
     ]
    }
   ],
   "source": [
    "def decoding_layer_infer(encoder_state, dec_cell, dec_embeddings, start_of_sequence_id, end_of_sequence_id,\n",
    "                         maximum_length, vocab_size, decoding_scope, output_fn, keep_prob):\n",
    "    \"\"\"\n",
    "    Create a decoding layer for inference\n",
    "    :param encoder_state: Encoder state\n",
    "    :param dec_cell: Decoder RNN Cell\n",
    "    :param dec_embeddings: Decoder embeddings\n",
    "    :param start_of_sequence_id: GO ID\n",
    "    :param end_of_sequence_id: EOS Id\n",
    "    :param maximum_length: Maximum length of \n",
    "    :param vocab_size: Size of vocabulary\n",
    "    :param decoding_scope: TensorFlow Variable Scope for decoding\n",
    "    :param output_fn: Function to apply the output layer\n",
    "    :param keep_prob: Dropout keep probability\n",
    "    :return: Inference Logits\n",
    "    \"\"\"\n",
    "    # TODO: Implement Function\n",
    "    infer_decoder_fn = tf.contrib.seq2seq.simple_decoder_fn_inference(\n",
    "        output_fn, encoder_state, dec_embeddings, start_of_sequence_id, end_of_sequence_id, \n",
    "        maximum_length, vocab_size)\n",
    "    \n",
    "    inference_logits, _, _ = tf.contrib.seq2seq.dynamic_rnn_decoder(dec_cell, infer_decoder_fn, scope=decoding_scope)\n",
    "    return inference_logits\n",
    "\n",
    "\n",
    "\"\"\"\n",
    "DON'T MODIFY ANYTHING IN THIS CELL THAT IS BELOW THIS LINE\n",
    "\"\"\"\n",
    "tests.test_decoding_layer_infer(decoding_layer_infer)"
   ]
  },
  {
   "cell_type": "markdown",
   "metadata": {
    "deletable": true,
    "editable": true
   },
   "source": [
    "### Build the Decoding Layer\n",
    "Implement `decoding_layer()` to create a Decoder RNN layer.\n",
    "\n",
    "- Create RNN cell for decoding using `rnn_size` and `num_layers`.\n",
    "- Create the output fuction using [`lambda`](https://docs.python.org/3/tutorial/controlflow.html#lambda-expressions) to transform it's input, logits, to class logits.\n",
    "- Use the your `decoding_layer_train(encoder_state, dec_cell, dec_embed_input, sequence_length, decoding_scope, output_fn, keep_prob)` function to get the training logits.\n",
    "- Use your `decoding_layer_infer(encoder_state, dec_cell, dec_embeddings, start_of_sequence_id, end_of_sequence_id, maximum_length, vocab_size, decoding_scope, output_fn, keep_prob)` function to get the inference logits.\n",
    "\n",
    "Note: You'll need to use [tf.variable_scope](https://www.tensorflow.org/api_docs/python/tf/variable_scope) to share variables between training and inference."
   ]
  },
  {
   "cell_type": "code",
   "execution_count": 12,
   "metadata": {
    "collapsed": false,
    "deletable": true,
    "editable": true
   },
   "outputs": [
    {
     "name": "stdout",
     "output_type": "stream",
     "text": [
      "Tests Passed\n"
     ]
    }
   ],
   "source": [
    "def decoding_layer(dec_embed_input, dec_embeddings, encoder_state, vocab_size, sequence_length, rnn_size,\n",
    "                   num_layers, target_vocab_to_int, keep_prob):\n",
    "    \"\"\"\n",
    "    Create decoding layer\n",
    "    :param dec_embed_input: Decoder embedded input\n",
    "    :param dec_embeddings: Decoder embeddings\n",
    "    :param encoder_state: The encoded state\n",
    "    :param vocab_size: Size of vocabulary\n",
    "    :param sequence_length: Sequence Length\n",
    "    :param rnn_size: RNN Size\n",
    "    :param num_layers: Number of layers\n",
    "    :param target_vocab_to_int: Dictionary to go from the target words to an id\n",
    "    :param keep_prob: Dropout keep probability\n",
    "    :return: Tuple of (Training Logits, Inference Logits)\n",
    "    \"\"\"\n",
    "    # TODO: Implement Function\n",
    "    \n",
    "    start_of_sequence_id = target_vocab_to_int['<GO>']\n",
    "    end_of_sequence_id = target_vocab_to_int['<EOS>']\n",
    "    \n",
    "#     target_vocab_size = len(target_vocab_to_int)\n",
    "    \n",
    "    dec_cell = tf.contrib.rnn.MultiRNNCell([tf.contrib.rnn.BasicLSTMCell(rnn_size)] * num_layers)\n",
    "    \n",
    "    with tf.variable_scope(\"decoding\") as decoding_scope:\n",
    "        # Output Layer\n",
    "        output_fn = lambda x: tf.contrib.layers.fully_connected(x, vocab_size, None, scope=decoding_scope)\n",
    "        \n",
    "    with tf.variable_scope(\"decoding\") as decoding_scope:\n",
    "        training_logits = decoding_layer_train(encoder_state, dec_cell, dec_embed_input, sequence_length, decoding_scope, output_fn, keep_prob)\n",
    "        \n",
    "    with tf.variable_scope(\"decoding\", reuse=True) as decoding_scope:\n",
    "        inference_logits = decoding_layer_infer(encoder_state, dec_cell, dec_embeddings, start_of_sequence_id, end_of_sequence_id, sequence_length, vocab_size, decoding_scope, output_fn, keep_prob)\n",
    "\n",
    "    return training_logits, inference_logits\n",
    "\n",
    "\n",
    "\"\"\"\n",
    "DON'T MODIFY ANYTHING IN THIS CELL THAT IS BELOW THIS LINE\n",
    "\"\"\"\n",
    "tests.test_decoding_layer(decoding_layer)"
   ]
  },
  {
   "cell_type": "markdown",
   "metadata": {
    "deletable": true,
    "editable": true
   },
   "source": [
    "### Build the Neural Network\n",
    "Apply the functions you implemented above to:\n",
    "\n",
    "- Apply embedding to the input data for the encoder.\n",
    "- Encode the input using your `encoding_layer(rnn_inputs, rnn_size, num_layers, keep_prob)`.\n",
    "- Process target data using your `process_decoding_input(target_data, target_vocab_to_int, batch_size)` function.\n",
    "- Apply embedding to the target data for the decoder.\n",
    "- Decode the encoded input using your `decoding_layer(dec_embed_input, dec_embeddings, encoder_state, vocab_size, sequence_length, rnn_size, num_layers, target_vocab_to_int, keep_prob)`."
   ]
  },
  {
   "cell_type": "code",
   "execution_count": 16,
   "metadata": {
    "collapsed": false,
    "deletable": true,
    "editable": true
   },
   "outputs": [
    {
     "name": "stdout",
     "output_type": "stream",
     "text": [
      "Tests Passed\n"
     ]
    }
   ],
   "source": [
    "def seq2seq_model(input_data, target_data, keep_prob, batch_size, sequence_length, source_vocab_size, target_vocab_size,\n",
    "                  enc_embedding_size, dec_embedding_size, rnn_size, num_layers, target_vocab_to_int):\n",
    "    \"\"\"\n",
    "    Build the Sequence-to-Sequence part of the neural network\n",
    "    :param input_data: Input placeholder\n",
    "    :param target_data: Target placeholder\n",
    "    :param keep_prob: Dropout keep probability placeholder\n",
    "    :param batch_size: Batch Size\n",
    "    :param sequence_length: Sequence Length\n",
    "    :param source_vocab_size: Source vocabulary size\n",
    "    :param target_vocab_size: Target vocabulary size\n",
    "    :param enc_embedding_size: Decoder embedding size\n",
    "    :param dec_embedding_size: Encoder embedding size\n",
    "    :param rnn_size: RNN Size\n",
    "    :param num_layers: Number of layers\n",
    "    :param target_vocab_to_int: Dictionary to go from the target words to an id\n",
    "    :return: Tuple of (Training Logits, Inference Logits)\n",
    "    \"\"\"\n",
    "    # TODO: Implement Function\n",
    "    # Encoder embedding\n",
    "    enc_embed_input = tf.contrib.layers.embed_sequence(input_data, source_vocab_size, enc_embedding_size)\n",
    "    encoder_state = encoding_layer(enc_embed_input, rnn_size, num_layers, keep_prob)\n",
    "    \n",
    "    # Decoding layer\n",
    "    dec_input = process_decoding_input(target_data, target_vocab_to_int, batch_size)\n",
    "    dec_embeddings = tf.Variable(tf.random_uniform([target_vocab_size, dec_embedding_size]))\n",
    "    dec_embed_input = tf.contrib.layers.embed_sequence(dec_input, target_vocab_size, dec_embedding_size)\n",
    "    \n",
    "    train, infer = decoding_layer(dec_embed_input, dec_embeddings, encoder_state, target_vocab_size, sequence_length, rnn_size,\n",
    "                                  num_layers, target_vocab_to_int, keep_prob)\n",
    "\n",
    "    return (train, infer)\n",
    "\n",
    "\n",
    "\"\"\"\n",
    "DON'T MODIFY ANYTHING IN THIS CELL THAT IS BELOW THIS LINE\n",
    "\"\"\"\n",
    "tests.test_seq2seq_model(seq2seq_model)"
   ]
  },
  {
   "cell_type": "markdown",
   "metadata": {
    "deletable": true,
    "editable": true
   },
   "source": [
    "## Neural Network Training\n",
    "### Hyperparameters\n",
    "Tune the following parameters:\n",
    "\n",
    "- Set `epochs` to the number of epochs.\n",
    "- Set `batch_size` to the batch size.\n",
    "- Set `rnn_size` to the size of the RNNs.\n",
    "- Set `num_layers` to the number of layers.\n",
    "- Set `encoding_embedding_size` to the size of the embedding for the encoder.\n",
    "- Set `decoding_embedding_size` to the size of the embedding for the decoder.\n",
    "- Set `learning_rate` to the learning rate.\n",
    "- Set `keep_probability` to the Dropout keep probability"
   ]
  },
  {
   "cell_type": "code",
   "execution_count": 44,
   "metadata": {
    "collapsed": true,
    "deletable": true,
    "editable": true
   },
   "outputs": [],
   "source": [
    "# Number of Epochs\n",
    "epochs = 60\n",
    "# Batch Size\n",
    "batch_size = 256\n",
    "# RNN Size\n",
    "rnn_size = 50\n",
    "# Number of Layers\n",
    "num_layers = 10\n",
    "# Embedding Size\n",
    "encoding_embedding_size = 13\n",
    "decoding_embedding_size = 13\n",
    "# Learning Rate\n",
    "learning_rate = 0.01\n",
    "# Dropout Keep Probability\n",
    "keep_probability = 0.7"
   ]
  },
  {
   "cell_type": "markdown",
   "metadata": {
    "deletable": true,
    "editable": true
   },
   "source": [
    "### Build the Graph\n",
    "Build the graph using the neural network you implemented."
   ]
  },
  {
   "cell_type": "code",
   "execution_count": 45,
   "metadata": {
    "collapsed": false,
    "deletable": true,
    "editable": true
   },
   "outputs": [],
   "source": [
    "\"\"\"\n",
    "DON'T MODIFY ANYTHING IN THIS CELL\n",
    "\"\"\"\n",
    "save_path = 'checkpoints/dev'\n",
    "(source_int_text, target_int_text), (source_vocab_to_int, target_vocab_to_int), _ = helper.load_preprocess()\n",
    "max_target_sentence_length = max([len(sentence) for sentence in source_int_text])\n",
    "\n",
    "train_graph = tf.Graph()\n",
    "with train_graph.as_default():\n",
    "    input_data, targets, lr, keep_prob = model_inputs()\n",
    "    sequence_length = tf.placeholder_with_default(max_target_sentence_length, None, name='sequence_length')\n",
    "    input_shape = tf.shape(input_data)\n",
    "    \n",
    "    train_logits, inference_logits = seq2seq_model(\n",
    "        tf.reverse(input_data, [-1]), targets, keep_prob, batch_size, sequence_length, len(source_vocab_to_int), len(target_vocab_to_int),\n",
    "        encoding_embedding_size, decoding_embedding_size, rnn_size, num_layers, target_vocab_to_int)\n",
    "\n",
    "    tf.identity(inference_logits, 'logits')\n",
    "    with tf.name_scope(\"optimization\"):\n",
    "        # Loss function\n",
    "        cost = tf.contrib.seq2seq.sequence_loss(\n",
    "            train_logits,\n",
    "            targets,\n",
    "            tf.ones([input_shape[0], sequence_length]))\n",
    "\n",
    "        # Optimizer\n",
    "        optimizer = tf.train.AdamOptimizer(lr)\n",
    "\n",
    "        # Gradient Clipping\n",
    "        gradients = optimizer.compute_gradients(cost)\n",
    "        capped_gradients = [(tf.clip_by_value(grad, -1., 1.), var) for grad, var in gradients if grad is not None]\n",
    "        train_op = optimizer.apply_gradients(capped_gradients)"
   ]
  },
  {
   "cell_type": "markdown",
   "metadata": {
    "deletable": true,
    "editable": true
   },
   "source": [
    "### Train\n",
    "Train the neural network on the preprocessed data. If you have a hard time getting a good loss, check the forms to see if anyone is having the same problem."
   ]
  },
  {
   "cell_type": "code",
   "execution_count": 46,
   "metadata": {
    "collapsed": false,
    "deletable": true,
    "editable": true,
    "scrolled": false
   },
   "outputs": [
    {
     "name": "stdout",
     "output_type": "stream",
     "text": [
      "Epoch   0 Batch    0/462 - Train Accuracy:  0.097, Validation Accuracy:  0.095, Loss:  5.881\n",
      "Epoch   0 Batch    1/462 - Train Accuracy:  0.184, Validation Accuracy:  0.214, Loss:  5.853\n",
      "Epoch   0 Batch    2/462 - Train Accuracy:  0.210, Validation Accuracy:  0.211, Loss:  5.673\n",
      "Epoch   0 Batch    3/462 - Train Accuracy:  0.198, Validation Accuracy:  0.211, Loss:  5.256\n",
      "Epoch   0 Batch    4/462 - Train Accuracy:  0.183, Validation Accuracy:  0.211, Loss:  4.918\n",
      "Epoch   0 Batch    5/462 - Train Accuracy:  0.187, Validation Accuracy:  0.211, Loss:  4.682\n",
      "Epoch   0 Batch    6/462 - Train Accuracy:  0.207, Validation Accuracy:  0.211, Loss:  4.519\n",
      "Epoch   0 Batch    7/462 - Train Accuracy:  0.209, Validation Accuracy:  0.211, Loss:  4.414\n",
      "Epoch   0 Batch    8/462 - Train Accuracy:  0.207, Validation Accuracy:  0.226, Loss:  4.462\n",
      "Epoch   0 Batch    9/462 - Train Accuracy:  0.197, Validation Accuracy:  0.212, Loss:  4.455\n",
      "Epoch   0 Batch   10/462 - Train Accuracy:  0.190, Validation Accuracy:  0.208, Loss:  4.387\n",
      "Epoch   0 Batch   11/462 - Train Accuracy:  0.205, Validation Accuracy:  0.209, Loss:  4.335\n",
      "Epoch   0 Batch   12/462 - Train Accuracy:  0.223, Validation Accuracy:  0.242, Loss:  4.334\n",
      "Epoch   0 Batch   13/462 - Train Accuracy:  0.234, Validation Accuracy:  0.244, Loss:  4.329\n",
      "Epoch   0 Batch   14/462 - Train Accuracy:  0.219, Validation Accuracy:  0.236, Loss:  4.264\n",
      "Epoch   0 Batch   15/462 - Train Accuracy:  0.199, Validation Accuracy:  0.207, Loss:  4.268\n",
      "Epoch   0 Batch   16/462 - Train Accuracy:  0.206, Validation Accuracy:  0.222, Loss:  4.299\n",
      "Epoch   0 Batch   17/462 - Train Accuracy:  0.228, Validation Accuracy:  0.244, Loss:  4.230\n",
      "Epoch   0 Batch   18/462 - Train Accuracy:  0.199, Validation Accuracy:  0.221, Loss:  4.214\n",
      "Epoch   0 Batch   19/462 - Train Accuracy:  0.224, Validation Accuracy:  0.230, Loss:  4.149\n",
      "Epoch   0 Batch   20/462 - Train Accuracy:  0.215, Validation Accuracy:  0.225, Loss:  4.198\n",
      "Epoch   0 Batch   21/462 - Train Accuracy:  0.216, Validation Accuracy:  0.226, Loss:  4.189\n",
      "Epoch   0 Batch   22/462 - Train Accuracy:  0.204, Validation Accuracy:  0.217, Loss:  4.148\n",
      "Epoch   0 Batch   23/462 - Train Accuracy:  0.229, Validation Accuracy:  0.241, Loss:  4.169\n",
      "Epoch   0 Batch   24/462 - Train Accuracy:  0.252, Validation Accuracy:  0.265, Loss:  4.165\n",
      "Epoch   0 Batch   25/462 - Train Accuracy:  0.242, Validation Accuracy:  0.257, Loss:  4.118\n",
      "Epoch   0 Batch   26/462 - Train Accuracy:  0.251, Validation Accuracy:  0.263, Loss:  4.136\n",
      "Epoch   0 Batch   27/462 - Train Accuracy:  0.227, Validation Accuracy:  0.250, Loss:  4.143\n",
      "Epoch   0 Batch   28/462 - Train Accuracy:  0.226, Validation Accuracy:  0.244, Loss:  4.114\n",
      "Epoch   0 Batch   29/462 - Train Accuracy:  0.242, Validation Accuracy:  0.255, Loss:  4.085\n",
      "Epoch   0 Batch   30/462 - Train Accuracy:  0.233, Validation Accuracy:  0.255, Loss:  4.097\n",
      "Epoch   0 Batch   31/462 - Train Accuracy:  0.241, Validation Accuracy:  0.253, Loss:  4.061\n",
      "Epoch   0 Batch   32/462 - Train Accuracy:  0.249, Validation Accuracy:  0.259, Loss:  4.080\n",
      "Epoch   0 Batch   33/462 - Train Accuracy:  0.242, Validation Accuracy:  0.259, Loss:  4.089\n",
      "Epoch   0 Batch   34/462 - Train Accuracy:  0.255, Validation Accuracy:  0.268, Loss:  4.046\n",
      "Epoch   0 Batch   35/462 - Train Accuracy:  0.258, Validation Accuracy:  0.271, Loss:  4.050\n",
      "Epoch   0 Batch   36/462 - Train Accuracy:  0.257, Validation Accuracy:  0.271, Loss:  3.982\n",
      "Epoch   0 Batch   37/462 - Train Accuracy:  0.263, Validation Accuracy:  0.270, Loss:  4.043\n",
      "Epoch   0 Batch   38/462 - Train Accuracy:  0.253, Validation Accuracy:  0.270, Loss:  4.016\n",
      "Epoch   0 Batch   39/462 - Train Accuracy:  0.254, Validation Accuracy:  0.273, Loss:  4.021\n",
      "Epoch   0 Batch   40/462 - Train Accuracy:  0.263, Validation Accuracy:  0.273, Loss:  4.014\n",
      "Epoch   0 Batch   41/462 - Train Accuracy:  0.266, Validation Accuracy:  0.268, Loss:  3.998\n",
      "Epoch   0 Batch   42/462 - Train Accuracy:  0.255, Validation Accuracy:  0.273, Loss:  4.007\n",
      "Epoch   0 Batch   43/462 - Train Accuracy:  0.277, Validation Accuracy:  0.276, Loss:  3.947\n",
      "Epoch   0 Batch   44/462 - Train Accuracy:  0.262, Validation Accuracy:  0.280, Loss:  3.987\n",
      "Epoch   0 Batch   45/462 - Train Accuracy:  0.272, Validation Accuracy:  0.284, Loss:  4.002\n",
      "Epoch   0 Batch   46/462 - Train Accuracy:  0.270, Validation Accuracy:  0.281, Loss:  3.973\n",
      "Epoch   0 Batch   47/462 - Train Accuracy:  0.275, Validation Accuracy:  0.287, Loss:  3.998\n",
      "Epoch   0 Batch   48/462 - Train Accuracy:  0.271, Validation Accuracy:  0.280, Loss:  3.966\n",
      "Epoch   0 Batch   49/462 - Train Accuracy:  0.275, Validation Accuracy:  0.284, Loss:  3.969\n",
      "Epoch   0 Batch   50/462 - Train Accuracy:  0.268, Validation Accuracy:  0.274, Loss:  3.942\n",
      "Epoch   0 Batch   51/462 - Train Accuracy:  0.271, Validation Accuracy:  0.281, Loss:  3.927\n",
      "Epoch   0 Batch   52/462 - Train Accuracy:  0.274, Validation Accuracy:  0.283, Loss:  3.963\n",
      "Epoch   0 Batch   53/462 - Train Accuracy:  0.274, Validation Accuracy:  0.281, Loss:  3.931\n",
      "Epoch   0 Batch   54/462 - Train Accuracy:  0.281, Validation Accuracy:  0.292, Loss:  3.985\n",
      "Epoch   0 Batch   55/462 - Train Accuracy:  0.258, Validation Accuracy:  0.280, Loss:  3.994\n",
      "Epoch   0 Batch   56/462 - Train Accuracy:  0.271, Validation Accuracy:  0.287, Loss:  3.965\n",
      "Epoch   0 Batch   57/462 - Train Accuracy:  0.283, Validation Accuracy:  0.285, Loss:  3.942\n",
      "Epoch   0 Batch   58/462 - Train Accuracy:  0.283, Validation Accuracy:  0.292, Loss:  3.893\n",
      "Epoch   0 Batch   59/462 - Train Accuracy:  0.266, Validation Accuracy:  0.284, Loss:  3.915\n",
      "Epoch   0 Batch   60/462 - Train Accuracy:  0.268, Validation Accuracy:  0.283, Loss:  3.869\n",
      "Epoch   0 Batch   61/462 - Train Accuracy:  0.282, Validation Accuracy:  0.289, Loss:  3.883\n",
      "Epoch   0 Batch   62/462 - Train Accuracy:  0.276, Validation Accuracy:  0.292, Loss:  3.896\n",
      "Epoch   0 Batch   63/462 - Train Accuracy:  0.280, Validation Accuracy:  0.292, Loss:  3.951\n",
      "Epoch   0 Batch   64/462 - Train Accuracy:  0.278, Validation Accuracy:  0.289, Loss:  3.904\n",
      "Epoch   0 Batch   65/462 - Train Accuracy:  0.275, Validation Accuracy:  0.292, Loss:  3.943\n",
      "Epoch   0 Batch   66/462 - Train Accuracy:  0.264, Validation Accuracy:  0.292, Loss:  3.927\n",
      "Epoch   0 Batch   67/462 - Train Accuracy:  0.273, Validation Accuracy:  0.288, Loss:  3.948\n",
      "Epoch   0 Batch   68/462 - Train Accuracy:  0.269, Validation Accuracy:  0.284, Loss:  3.864\n",
      "Epoch   0 Batch   69/462 - Train Accuracy:  0.281, Validation Accuracy:  0.289, Loss:  3.849\n",
      "Epoch   0 Batch   70/462 - Train Accuracy:  0.276, Validation Accuracy:  0.292, Loss:  3.861\n",
      "Epoch   0 Batch   71/462 - Train Accuracy:  0.285, Validation Accuracy:  0.287, Loss:  3.864\n",
      "Epoch   0 Batch   72/462 - Train Accuracy:  0.287, Validation Accuracy:  0.290, Loss:  3.840\n",
      "Epoch   0 Batch   73/462 - Train Accuracy:  0.271, Validation Accuracy:  0.297, Loss:  3.919\n",
      "Epoch   0 Batch   74/462 - Train Accuracy:  0.261, Validation Accuracy:  0.268, Loss:  3.868\n",
      "Epoch   0 Batch   75/462 - Train Accuracy:  0.271, Validation Accuracy:  0.293, Loss:  3.922\n",
      "Epoch   0 Batch   76/462 - Train Accuracy:  0.283, Validation Accuracy:  0.282, Loss:  3.899\n",
      "Epoch   0 Batch   77/462 - Train Accuracy:  0.293, Validation Accuracy:  0.287, Loss:  3.826\n",
      "Epoch   0 Batch   78/462 - Train Accuracy:  0.288, Validation Accuracy:  0.298, Loss:  3.898\n",
      "Epoch   0 Batch   79/462 - Train Accuracy:  0.268, Validation Accuracy:  0.276, Loss:  3.832\n",
      "Epoch   0 Batch   80/462 - Train Accuracy:  0.298, Validation Accuracy:  0.302, Loss:  3.829\n",
      "Epoch   0 Batch   81/462 - Train Accuracy:  0.277, Validation Accuracy:  0.295, Loss:  3.804\n",
      "Epoch   0 Batch   82/462 - Train Accuracy:  0.301, Validation Accuracy:  0.305, Loss:  3.848\n",
      "Epoch   0 Batch   83/462 - Train Accuracy:  0.281, Validation Accuracy:  0.293, Loss:  3.790\n",
      "Epoch   0 Batch   84/462 - Train Accuracy:  0.283, Validation Accuracy:  0.298, Loss:  3.871\n",
      "Epoch   0 Batch   85/462 - Train Accuracy:  0.299, Validation Accuracy:  0.309, Loss:  3.802\n",
      "Epoch   0 Batch   86/462 - Train Accuracy:  0.324, Validation Accuracy:  0.324, Loss:  3.741\n",
      "Epoch   0 Batch   87/462 - Train Accuracy:  0.317, Validation Accuracy:  0.320, Loss:  3.766\n",
      "Epoch   0 Batch   88/462 - Train Accuracy:  0.316, Validation Accuracy:  0.322, Loss:  3.753\n",
      "Epoch   0 Batch   89/462 - Train Accuracy:  0.341, Validation Accuracy:  0.351, Loss:  3.818\n",
      "Epoch   0 Batch   90/462 - Train Accuracy:  0.293, Validation Accuracy:  0.316, Loss:  3.685\n",
      "Epoch   0 Batch   91/462 - Train Accuracy:  0.324, Validation Accuracy:  0.341, Loss:  3.762\n",
      "Epoch   0 Batch   92/462 - Train Accuracy:  0.326, Validation Accuracy:  0.342, Loss:  3.738\n",
      "Epoch   0 Batch   93/462 - Train Accuracy:  0.336, Validation Accuracy:  0.344, Loss:  3.731\n",
      "Epoch   0 Batch   94/462 - Train Accuracy:  0.315, Validation Accuracy:  0.329, Loss:  3.730\n",
      "Epoch   0 Batch   95/462 - Train Accuracy:  0.285, Validation Accuracy:  0.296, Loss:  3.720\n",
      "Epoch   0 Batch   96/462 - Train Accuracy:  0.304, Validation Accuracy:  0.314, Loss:  3.831\n",
      "Epoch   0 Batch   97/462 - Train Accuracy:  0.328, Validation Accuracy:  0.343, Loss:  3.768\n",
      "Epoch   0 Batch   98/462 - Train Accuracy:  0.348, Validation Accuracy:  0.349, Loss:  3.686\n",
      "Epoch   0 Batch   99/462 - Train Accuracy:  0.312, Validation Accuracy:  0.338, Loss:  3.670\n",
      "Epoch   0 Batch  100/462 - Train Accuracy:  0.297, Validation Accuracy:  0.296, Loss:  3.701\n",
      "Epoch   0 Batch  101/462 - Train Accuracy:  0.326, Validation Accuracy:  0.332, Loss:  3.766\n",
      "Epoch   0 Batch  102/462 - Train Accuracy:  0.317, Validation Accuracy:  0.324, Loss:  3.692\n",
      "Epoch   0 Batch  103/462 - Train Accuracy:  0.346, Validation Accuracy:  0.359, Loss:  3.763\n",
      "Epoch   0 Batch  104/462 - Train Accuracy:  0.335, Validation Accuracy:  0.347, Loss:  3.682\n",
      "Epoch   0 Batch  105/462 - Train Accuracy:  0.352, Validation Accuracy:  0.349, Loss:  3.665\n",
      "Epoch   0 Batch  106/462 - Train Accuracy:  0.338, Validation Accuracy:  0.367, Loss:  3.709\n",
      "Epoch   0 Batch  107/462 - Train Accuracy:  0.331, Validation Accuracy:  0.350, Loss:  3.650\n",
      "Epoch   0 Batch  108/462 - Train Accuracy:  0.351, Validation Accuracy:  0.360, Loss:  3.686\n",
      "Epoch   0 Batch  109/462 - Train Accuracy:  0.327, Validation Accuracy:  0.361, Loss:  3.631\n",
      "Epoch   0 Batch  110/462 - Train Accuracy:  0.352, Validation Accuracy:  0.357, Loss:  3.556\n",
      "Epoch   0 Batch  111/462 - Train Accuracy:  0.354, Validation Accuracy:  0.372, Loss:  3.622\n",
      "Epoch   0 Batch  112/462 - Train Accuracy:  0.359, Validation Accuracy:  0.372, Loss:  3.584\n",
      "Epoch   0 Batch  113/462 - Train Accuracy:  0.373, Validation Accuracy:  0.385, Loss:  3.600\n",
      "Epoch   0 Batch  114/462 - Train Accuracy:  0.337, Validation Accuracy:  0.379, Loss:  3.630\n",
      "Epoch   0 Batch  115/462 - Train Accuracy:  0.362, Validation Accuracy:  0.376, Loss:  3.615\n",
      "Epoch   0 Batch  116/462 - Train Accuracy:  0.359, Validation Accuracy:  0.368, Loss:  3.584\n",
      "Epoch   0 Batch  117/462 - Train Accuracy:  0.338, Validation Accuracy:  0.368, Loss:  3.667\n",
      "Epoch   0 Batch  118/462 - Train Accuracy:  0.356, Validation Accuracy:  0.382, Loss:  3.580\n",
      "Epoch   0 Batch  119/462 - Train Accuracy:  0.360, Validation Accuracy:  0.383, Loss:  3.584\n",
      "Epoch   0 Batch  120/462 - Train Accuracy:  0.378, Validation Accuracy:  0.390, Loss:  3.574\n",
      "Epoch   0 Batch  121/462 - Train Accuracy:  0.372, Validation Accuracy:  0.383, Loss:  3.525\n",
      "Epoch   0 Batch  122/462 - Train Accuracy:  0.383, Validation Accuracy:  0.384, Loss:  3.504\n",
      "Epoch   0 Batch  123/462 - Train Accuracy:  0.367, Validation Accuracy:  0.385, Loss:  3.580\n",
      "Epoch   0 Batch  124/462 - Train Accuracy:  0.371, Validation Accuracy:  0.384, Loss:  3.519\n",
      "Epoch   0 Batch  125/462 - Train Accuracy:  0.350, Validation Accuracy:  0.380, Loss:  3.582\n",
      "Epoch   0 Batch  126/462 - Train Accuracy:  0.380, Validation Accuracy:  0.388, Loss:  3.507\n",
      "Epoch   0 Batch  127/462 - Train Accuracy:  0.367, Validation Accuracy:  0.385, Loss:  3.557\n",
      "Epoch   0 Batch  128/462 - Train Accuracy:  0.365, Validation Accuracy:  0.385, Loss:  3.534\n",
      "Epoch   0 Batch  129/462 - Train Accuracy:  0.389, Validation Accuracy:  0.390, Loss:  3.473\n",
      "Epoch   0 Batch  130/462 - Train Accuracy:  0.387, Validation Accuracy:  0.391, Loss:  3.554\n",
      "Epoch   0 Batch  131/462 - Train Accuracy:  0.370, Validation Accuracy:  0.397, Loss:  3.528\n",
      "Epoch   0 Batch  132/462 - Train Accuracy:  0.368, Validation Accuracy:  0.392, Loss:  3.505\n",
      "Epoch   0 Batch  133/462 - Train Accuracy:  0.367, Validation Accuracy:  0.382, Loss:  3.511\n",
      "Epoch   0 Batch  134/462 - Train Accuracy:  0.376, Validation Accuracy:  0.386, Loss:  3.545\n",
      "Epoch   0 Batch  135/462 - Train Accuracy:  0.370, Validation Accuracy:  0.383, Loss:  3.491\n",
      "Epoch   0 Batch  136/462 - Train Accuracy:  0.367, Validation Accuracy:  0.388, Loss:  3.495\n",
      "Epoch   0 Batch  137/462 - Train Accuracy:  0.367, Validation Accuracy:  0.385, Loss:  3.457\n",
      "Epoch   0 Batch  138/462 - Train Accuracy:  0.383, Validation Accuracy:  0.393, Loss:  3.448\n",
      "Epoch   0 Batch  139/462 - Train Accuracy:  0.384, Validation Accuracy:  0.390, Loss:  3.442\n",
      "Epoch   0 Batch  140/462 - Train Accuracy:  0.362, Validation Accuracy:  0.389, Loss:  3.532\n",
      "Epoch   0 Batch  141/462 - Train Accuracy:  0.394, Validation Accuracy:  0.392, Loss:  3.441\n",
      "Epoch   0 Batch  142/462 - Train Accuracy:  0.387, Validation Accuracy:  0.398, Loss:  3.443\n",
      "Epoch   0 Batch  143/462 - Train Accuracy:  0.389, Validation Accuracy:  0.398, Loss:  3.443\n",
      "Epoch   0 Batch  144/462 - Train Accuracy:  0.388, Validation Accuracy:  0.398, Loss:  3.444\n",
      "Epoch   0 Batch  145/462 - Train Accuracy:  0.397, Validation Accuracy:  0.400, Loss:  3.418\n",
      "Epoch   0 Batch  146/462 - Train Accuracy:  0.378, Validation Accuracy:  0.400, Loss:  3.420\n",
      "Epoch   0 Batch  147/462 - Train Accuracy:  0.377, Validation Accuracy:  0.403, Loss:  3.482\n",
      "Epoch   0 Batch  148/462 - Train Accuracy:  0.394, Validation Accuracy:  0.403, Loss:  3.470\n",
      "Epoch   0 Batch  149/462 - Train Accuracy:  0.370, Validation Accuracy:  0.385, Loss:  3.475\n",
      "Epoch   0 Batch  150/462 - Train Accuracy:  0.357, Validation Accuracy:  0.397, Loss:  3.497\n",
      "Epoch   0 Batch  151/462 - Train Accuracy:  0.366, Validation Accuracy:  0.397, Loss:  3.511\n",
      "Epoch   0 Batch  152/462 - Train Accuracy:  0.389, Validation Accuracy:  0.398, Loss:  3.402\n",
      "Epoch   0 Batch  153/462 - Train Accuracy:  0.401, Validation Accuracy:  0.395, Loss:  3.380\n",
      "Epoch   0 Batch  154/462 - Train Accuracy:  0.379, Validation Accuracy:  0.396, Loss:  3.439\n",
      "Epoch   0 Batch  155/462 - Train Accuracy:  0.363, Validation Accuracy:  0.392, Loss:  3.484\n",
      "Epoch   0 Batch  156/462 - Train Accuracy:  0.385, Validation Accuracy:  0.404, Loss:  3.415\n",
      "Epoch   0 Batch  157/462 - Train Accuracy:  0.373, Validation Accuracy:  0.408, Loss:  3.474\n",
      "Epoch   0 Batch  158/462 - Train Accuracy:  0.399, Validation Accuracy:  0.406, Loss:  3.391\n",
      "Epoch   0 Batch  159/462 - Train Accuracy:  0.370, Validation Accuracy:  0.397, Loss:  3.448\n",
      "Epoch   0 Batch  160/462 - Train Accuracy:  0.346, Validation Accuracy:  0.367, Loss:  3.512\n",
      "Epoch   0 Batch  161/462 - Train Accuracy:  0.388, Validation Accuracy:  0.410, Loss:  3.450\n",
      "Epoch   0 Batch  162/462 - Train Accuracy:  0.395, Validation Accuracy:  0.408, Loss:  3.361\n",
      "Epoch   0 Batch  163/462 - Train Accuracy:  0.395, Validation Accuracy:  0.408, Loss:  3.405\n",
      "Epoch   0 Batch  164/462 - Train Accuracy:  0.385, Validation Accuracy:  0.387, Loss:  3.391\n",
      "Epoch   0 Batch  165/462 - Train Accuracy:  0.395, Validation Accuracy:  0.403, Loss:  3.425\n",
      "Epoch   0 Batch  166/462 - Train Accuracy:  0.396, Validation Accuracy:  0.416, Loss:  3.418\n",
      "Epoch   0 Batch  167/462 - Train Accuracy:  0.378, Validation Accuracy:  0.412, Loss:  3.442\n",
      "Epoch   0 Batch  168/462 - Train Accuracy:  0.386, Validation Accuracy:  0.410, Loss:  3.506\n",
      "Epoch   0 Batch  169/462 - Train Accuracy:  0.405, Validation Accuracy:  0.403, Loss:  3.390\n",
      "Epoch   0 Batch  170/462 - Train Accuracy:  0.389, Validation Accuracy:  0.406, Loss:  3.497\n"
     ]
    },
    {
     "ename": "ValueError",
     "evalue": "operands could not be broadcast together with shapes (256,18) (256,17) ",
     "output_type": "error",
     "traceback": [
      "\u001b[0;31m---------------------------------------------------------------------------\u001b[0m",
      "\u001b[0;31mValueError\u001b[0m                                Traceback (most recent call last)",
      "\u001b[0;32m<ipython-input-46-29c4deffcdd2>\u001b[0m in \u001b[0;36m<module>\u001b[0;34m()\u001b[0m\n\u001b[1;32m     52\u001b[0m \u001b[0;34m\u001b[0m\u001b[0m\n\u001b[1;32m     53\u001b[0m             \u001b[0mtrain_acc\u001b[0m \u001b[0;34m=\u001b[0m \u001b[0mget_accuracy\u001b[0m\u001b[0;34m(\u001b[0m\u001b[0mtarget_batch\u001b[0m\u001b[0;34m,\u001b[0m \u001b[0mbatch_train_logits\u001b[0m\u001b[0;34m)\u001b[0m\u001b[0;34m\u001b[0m\u001b[0m\n\u001b[0;32m---> 54\u001b[0;31m             \u001b[0mvalid_acc\u001b[0m \u001b[0;34m=\u001b[0m \u001b[0mget_accuracy\u001b[0m\u001b[0;34m(\u001b[0m\u001b[0mnp\u001b[0m\u001b[0;34m.\u001b[0m\u001b[0marray\u001b[0m\u001b[0;34m(\u001b[0m\u001b[0mvalid_target\u001b[0m\u001b[0;34m)\u001b[0m\u001b[0;34m,\u001b[0m \u001b[0mbatch_valid_logits\u001b[0m\u001b[0;34m)\u001b[0m\u001b[0;34m\u001b[0m\u001b[0m\n\u001b[0m\u001b[1;32m     55\u001b[0m             \u001b[0mend_time\u001b[0m \u001b[0;34m=\u001b[0m \u001b[0mtime\u001b[0m\u001b[0;34m.\u001b[0m\u001b[0mtime\u001b[0m\u001b[0;34m(\u001b[0m\u001b[0;34m)\u001b[0m\u001b[0;34m\u001b[0m\u001b[0m\n\u001b[1;32m     56\u001b[0m             print('Epoch {:>3} Batch {:>4}/{} - Train Accuracy: {:>6.3f}, Validation Accuracy: {:>6.3f}, Loss: {:>6.3f}'\n",
      "\u001b[0;32m<ipython-input-46-29c4deffcdd2>\u001b[0m in \u001b[0;36mget_accuracy\u001b[0;34m(target, logits)\u001b[0m\n\u001b[1;32m     20\u001b[0m             'constant')\n\u001b[1;32m     21\u001b[0m \u001b[0;34m\u001b[0m\u001b[0m\n\u001b[0;32m---> 22\u001b[0;31m     \u001b[0;32mreturn\u001b[0m \u001b[0mnp\u001b[0m\u001b[0;34m.\u001b[0m\u001b[0mmean\u001b[0m\u001b[0;34m(\u001b[0m\u001b[0mnp\u001b[0m\u001b[0;34m.\u001b[0m\u001b[0mequal\u001b[0m\u001b[0;34m(\u001b[0m\u001b[0mtarget\u001b[0m\u001b[0;34m,\u001b[0m \u001b[0mnp\u001b[0m\u001b[0;34m.\u001b[0m\u001b[0margmax\u001b[0m\u001b[0;34m(\u001b[0m\u001b[0mlogits\u001b[0m\u001b[0;34m,\u001b[0m \u001b[0;36m2\u001b[0m\u001b[0;34m)\u001b[0m\u001b[0;34m)\u001b[0m\u001b[0;34m)\u001b[0m\u001b[0;34m\u001b[0m\u001b[0m\n\u001b[0m\u001b[1;32m     23\u001b[0m \u001b[0;34m\u001b[0m\u001b[0m\n\u001b[1;32m     24\u001b[0m \u001b[0mtrain_source\u001b[0m \u001b[0;34m=\u001b[0m \u001b[0msource_int_text\u001b[0m\u001b[0;34m[\u001b[0m\u001b[0mbatch_size\u001b[0m\u001b[0;34m:\u001b[0m\u001b[0;34m]\u001b[0m\u001b[0;34m\u001b[0m\u001b[0m\n",
      "\u001b[0;31mValueError\u001b[0m: operands could not be broadcast together with shapes (256,18) (256,17) "
     ]
    }
   ],
   "source": [
    "\"\"\"\n",
    "DON'T MODIFY ANYTHING IN THIS CELL\n",
    "\"\"\"\n",
    "import time\n",
    "\n",
    "def get_accuracy(target, logits):\n",
    "    \"\"\"\n",
    "    Calculate accuracy\n",
    "    \"\"\"\n",
    "    max_seq = max(target.shape[1], logits.shape[1])\n",
    "    if max_seq - target.shape[1]:\n",
    "        target = np.pad(\n",
    "            target_batch,\n",
    "            [(0,0),(0,max_seq - target_batch.shape[1]), (0,0)],\n",
    "            'constant')\n",
    "    if max_seq - batch_train_logits.shape[1]:\n",
    "        logits = np.pad(\n",
    "            logits,\n",
    "            [(0,0),(0,max_seq - logits.shape[1]), (0,0)],\n",
    "            'constant')\n",
    "\n",
    "    return np.mean(np.equal(target, np.argmax(logits, 2)))\n",
    "\n",
    "train_source = source_int_text[batch_size:]\n",
    "train_target = target_int_text[batch_size:]\n",
    "\n",
    "valid_source = helper.pad_sentence_batch(source_int_text[:batch_size])\n",
    "valid_target = helper.pad_sentence_batch(target_int_text[:batch_size])\n",
    "\n",
    "with tf.Session(graph=train_graph) as sess:\n",
    "    sess.run(tf.global_variables_initializer())\n",
    "\n",
    "    for epoch_i in range(epochs):\n",
    "        for batch_i, (source_batch, target_batch) in enumerate(\n",
    "                helper.batch_data(train_source, train_target, batch_size)):\n",
    "            start_time = time.time()\n",
    "            \n",
    "            _, loss = sess.run(\n",
    "                [train_op, cost],\n",
    "                {input_data: source_batch,\n",
    "                 targets: target_batch,\n",
    "                 lr: learning_rate,\n",
    "                 sequence_length: target_batch.shape[1],\n",
    "                 keep_prob: keep_probability})\n",
    "            \n",
    "            batch_train_logits = sess.run(\n",
    "                inference_logits,\n",
    "                {input_data: source_batch, keep_prob: 1.0})\n",
    "            batch_valid_logits = sess.run(\n",
    "                inference_logits,\n",
    "                {input_data: valid_source, keep_prob: 1.0})\n",
    "                \n",
    "            train_acc = get_accuracy(target_batch, batch_train_logits)\n",
    "            valid_acc = get_accuracy(np.array(valid_target), batch_valid_logits)\n",
    "            end_time = time.time()\n",
    "            print('Epoch {:>3} Batch {:>4}/{} - Train Accuracy: {:>6.3f}, Validation Accuracy: {:>6.3f}, Loss: {:>6.3f}'\n",
    "                  .format(epoch_i, batch_i, len(source_int_text) // batch_size, train_acc, valid_acc, loss))\n",
    "\n",
    "    # Save Model\n",
    "    saver = tf.train.Saver()\n",
    "    saver.save(sess, save_path)\n",
    "    print('Model Trained and Saved')"
   ]
  },
  {
   "cell_type": "markdown",
   "metadata": {
    "deletable": true,
    "editable": true
   },
   "source": [
    "### Save Parameters\n",
    "Save the `batch_size` and `save_path` parameters for inference."
   ]
  },
  {
   "cell_type": "code",
   "execution_count": null,
   "metadata": {
    "collapsed": false,
    "deletable": true,
    "editable": true
   },
   "outputs": [],
   "source": [
    "\"\"\"\n",
    "DON'T MODIFY ANYTHING IN THIS CELL\n",
    "\"\"\"\n",
    "# Save parameters for checkpoint\n",
    "helper.save_params(save_path)"
   ]
  },
  {
   "cell_type": "markdown",
   "metadata": {
    "deletable": true,
    "editable": true
   },
   "source": [
    "# Checkpoint"
   ]
  },
  {
   "cell_type": "code",
   "execution_count": null,
   "metadata": {
    "collapsed": false,
    "deletable": true,
    "editable": true
   },
   "outputs": [],
   "source": [
    "\"\"\"\n",
    "DON'T MODIFY ANYTHING IN THIS CELL\n",
    "\"\"\"\n",
    "import tensorflow as tf\n",
    "import numpy as np\n",
    "import helper\n",
    "import problem_unittests as tests\n",
    "\n",
    "_, (source_vocab_to_int, target_vocab_to_int), (source_int_to_vocab, target_int_to_vocab) = helper.load_preprocess()\n",
    "load_path = helper.load_params()"
   ]
  },
  {
   "cell_type": "markdown",
   "metadata": {
    "deletable": true,
    "editable": true
   },
   "source": [
    "## Sentence to Sequence\n",
    "To feed a sentence into the model for translation, you first need to preprocess it.  Implement the function `sentence_to_seq()` to preprocess new sentences.\n",
    "\n",
    "- Convert the sentence to lowercase\n",
    "- Convert words into ids using `vocab_to_int`\n",
    " - Convert words not in the vocabulary, to the `<UNK>` word id."
   ]
  },
  {
   "cell_type": "code",
   "execution_count": null,
   "metadata": {
    "collapsed": false,
    "deletable": true,
    "editable": true
   },
   "outputs": [],
   "source": [
    "def sentence_to_seq(sentence, vocab_to_int):\n",
    "    \"\"\"\n",
    "    Convert a sentence to a sequence of ids\n",
    "    :param sentence: String\n",
    "    :param vocab_to_int: Dictionary to go from the words to an id\n",
    "    :return: List of word ids\n",
    "    \"\"\"\n",
    "    # TODO: Implement Function\n",
    "    return None\n",
    "\n",
    "\n",
    "\"\"\"\n",
    "DON'T MODIFY ANYTHING IN THIS CELL THAT IS BELOW THIS LINE\n",
    "\"\"\"\n",
    "tests.test_sentence_to_seq(sentence_to_seq)"
   ]
  },
  {
   "cell_type": "markdown",
   "metadata": {
    "deletable": true,
    "editable": true
   },
   "source": [
    "## Translate\n",
    "This will translate `translate_sentence` from English to French."
   ]
  },
  {
   "cell_type": "code",
   "execution_count": null,
   "metadata": {
    "collapsed": false,
    "deletable": true,
    "editable": true
   },
   "outputs": [],
   "source": [
    "translate_sentence = 'he saw a old yellow truck .'\n",
    "\n",
    "\n",
    "\"\"\"\n",
    "DON'T MODIFY ANYTHING IN THIS CELL\n",
    "\"\"\"\n",
    "translate_sentence = sentence_to_seq(translate_sentence, source_vocab_to_int)\n",
    "\n",
    "loaded_graph = tf.Graph()\n",
    "with tf.Session(graph=loaded_graph) as sess:\n",
    "    # Load saved model\n",
    "    loader = tf.train.import_meta_graph(load_path + '.meta')\n",
    "    loader.restore(sess, load_path)\n",
    "\n",
    "    input_data = loaded_graph.get_tensor_by_name('input:0')\n",
    "    logits = loaded_graph.get_tensor_by_name('logits:0')\n",
    "    keep_prob = loaded_graph.get_tensor_by_name('keep_prob:0')\n",
    "\n",
    "    translate_logits = sess.run(logits, {input_data: [translate_sentence], keep_prob: 1.0})[0]\n",
    "\n",
    "print('Input')\n",
    "print('  Word Ids:      {}'.format([i for i in translate_sentence]))\n",
    "print('  English Words: {}'.format([source_int_to_vocab[i] for i in translate_sentence]))\n",
    "\n",
    "print('\\nPrediction')\n",
    "print('  Word Ids:      {}'.format([i for i in np.argmax(translate_logits, 1)]))\n",
    "print('  French Words: {}'.format([target_int_to_vocab[i] for i in np.argmax(translate_logits, 1)]))"
   ]
  },
  {
   "cell_type": "markdown",
   "metadata": {
    "deletable": true,
    "editable": true
   },
   "source": [
    "## Imperfect Translation\n",
    "You might notice that some sentences translate better than others.  Since the dataset you're using only has a vocabulary of 227 English words of the thousands that you use, you're only going to see good results using these words.  For this project, you don't need a perfect translation. However, if you want to create a better translation model, you'll need better data.\n",
    "\n",
    "You can train on the [WMT10 French-English corpus](http://www.statmt.org/wmt10/training-giga-fren.tar).  This dataset has more vocabulary and richer in topics discussed.  However, this will take you days to train, so make sure you've a GPU and the neural network is performing well on dataset we provided.  Just make sure you play with the WMT10 corpus after you've submitted this project.\n",
    "## Submitting This Project\n",
    "When submitting this project, make sure to run all the cells before saving the notebook. Save the notebook file as \"dlnd_language_translation.ipynb\" and save it as a HTML file under \"File\" -> \"Download as\". Include the \"helper.py\" and \"problem_unittests.py\" files in your submission."
   ]
  }
 ],
 "metadata": {
  "kernelspec": {
   "display_name": "Python 3",
   "language": "python",
   "name": "python3"
  },
  "language_info": {
   "codemirror_mode": {
    "name": "ipython",
    "version": 3
   },
   "file_extension": ".py",
   "mimetype": "text/x-python",
   "name": "python",
   "nbconvert_exporter": "python",
   "pygments_lexer": "ipython3",
   "version": "3.5.2"
  },
  "widgets": {
   "state": {},
   "version": "1.1.2"
  }
 },
 "nbformat": 4,
 "nbformat_minor": 0
}
